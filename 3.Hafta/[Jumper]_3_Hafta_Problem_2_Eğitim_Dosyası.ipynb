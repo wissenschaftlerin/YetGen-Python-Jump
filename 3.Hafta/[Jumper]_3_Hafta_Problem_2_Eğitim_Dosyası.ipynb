{
  "nbformat": 4,
  "nbformat_minor": 0,
  "metadata": {
    "colab": {
      "provenance": [],
      "collapsed_sections": []
    },
    "kernelspec": {
      "name": "python3",
      "display_name": "Python 3"
    },
    "language_info": {
      "name": "python"
    }
  },
  "cells": [
    {
      "cell_type": "code",
      "source": [
        "print(\"Exchange'e hoş geldiniz\")\n",
        "turk_lirası = float(input(\"Elinizdeki türk lirasını giriniz \"))\n",
        "\n",
        "dolar = 17.90/(turk_lirası)\n",
        "euro = 18/(turk_lirası)\n",
        "\n",
        "print(f\" {turk_lirası} türk lirası {dolar} dolar ve {euro} euro'ya karşılık gelir.\")\n"
      ],
      "metadata": {
        "id": "Mvt1O-yltHlx",
        "colab": {
          "base_uri": "https://localhost:8080/"
        },
        "outputId": "a42e0279-1cd6-46b4-c18b-a361a9d5ed05"
      },
      "execution_count": null,
      "outputs": [
        {
          "output_type": "stream",
          "name": "stdout",
          "text": [
            "Exchange'e hoş geldiniz\n",
            "Elinizdeki türk lirasını giriniz 120\n",
            " 120.0 türk lirası 0.14916666666666664 dolar ve 0.15 euro'ya karşılık gelir.\n"
          ]
        }
      ]
    }
  ]
}
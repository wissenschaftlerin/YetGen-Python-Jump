{
  "nbformat": 4,
  "nbformat_minor": 0,
  "metadata": {
    "colab": {
      "provenance": [],
      "collapsed_sections": []
    },
    "kernelspec": {
      "name": "python3",
      "display_name": "Python 3"
    },
    "language_info": {
      "name": "python"
    }
  },
  "cells": [
    {
      "cell_type": "markdown",
      "source": [
        "# Problem 1\n",
        "Bir sayının 7'ye bölünebilir olup olmadığını kontrol etmek \n",
        "için bir program yazın."
      ],
      "metadata": {
        "id": "9SIIri9AXbPN"
      }
    },
    {
      "cell_type": "code",
      "execution_count": null,
      "metadata": {
        "id": "z7Mxxk2mQj3P",
        "colab": {
          "base_uri": "https://localhost:8080/"
        },
        "outputId": "c6646e31-9f1b-4ade-9f6c-7cfb18730b4b"
      },
      "outputs": [
        {
          "output_type": "stream",
          "name": "stdout",
          "text": [
            "Bir sayı giriniz 1\n",
            "Bölünemez\n"
          ]
        }
      ],
      "source": [
        "# 1. problemimiz için kodlarını buraya yazabilirsin.\n",
        "\n",
        "x = int(input(\"Bir sayı giriniz \"))\n",
        "if (x%7) == 0:\n",
        "  print(\"Bölünebilir\")\n",
        "else:\n",
        "  print(\"Bölünemez\")"
      ]
    },
    {
      "cell_type": "markdown",
      "source": [
        "# Problem 2\n",
        "Kullanıcıdan vize ve final notu isteyin. Girilen vize notunun %40’ı ve \n",
        "girilen finalnotunun ise %60’ı alınarak yıl sonu not ortalaması hesaplanacaktır. \n",
        "\n",
        "Bu not ortalaması eğer 85 ve üzeri ise AA, \n",
        "\n",
        "75 ve 85 arasında ise BA, \n",
        "\n",
        "70 ve 75 arasında ise BB, \n",
        "\n",
        "65 ve 70 arasında ise CB,\n",
        "\n",
        "60 ve 65 arasında ise CC,\n",
        "\n",
        "55 ve 60 arasında ise DC,\n",
        "\n",
        "50 ve 55 arasında ise DD olarak hesaplanacaktır. \n",
        "\n",
        "Bu öğrencinin yıl sonu toplam notu 50’nin altında ise FF ile dersten kalacaktır. \n",
        "\n",
        "Ayrıca öğrencinin final notu 50’nin altında ise direkt FF ile kalacaktır."
      ],
      "metadata": {
        "id": "idPSxmhFX4-e"
      }
    },
    {
      "cell_type": "code",
      "source": [
        "# 2. problemimiz için kodlarını buraya yazabilirsin.\n",
        "\n",
        "vize_notu = int(input(\"Vize notunu giriniz \"))\n",
        "final_notu = int(input(\"Final notunu giriniz \"))\n",
        "\n",
        "not_ortalama = (40*(vize_notu)+60*(final_notu))/100\n",
        "\n",
        "if not_ortalama >= 85:\n",
        "  print(\"AA ile dersten geçmiştir\")\n",
        "elif 85 > not_ortalama > 75:\n",
        "    print(\"BB ile dersten geçmiştir.\")\n",
        "elif 75 > not_ortalama > 70:\n",
        "    print(\"CB ile dersten geçmiştir.\")\n",
        "elif 65 > not_ortalama > 60:\n",
        "    print(\"CC ile dersten geçmiştir.\")\n",
        "elif 60 > not_ortalama > 55:\n",
        "    print(\"DC ile dersten geçmiştir.\")\n",
        "elif 55 > not_ortalama > 50:\n",
        "    print(\"DD ile dersten geçmiştir.\")\n",
        "elif not_ortalama < 50:\n",
        "    print(\"FF ile kalmıştır.\")"
      ],
      "metadata": {
        "id": "nDS9MpcwYL4q",
        "colab": {
          "base_uri": "https://localhost:8080/"
        },
        "outputId": "0668d447-d255-4bbb-fc53-fc89a4660acb"
      },
      "execution_count": null,
      "outputs": [
        {
          "output_type": "stream",
          "name": "stdout",
          "text": [
            "Vize notunu giriniz 44\n",
            "Final notunu giriniz 68\n",
            "DC ile dersten geçmiştir.\n"
          ]
        }
      ]
    },
    {
      "cell_type": "markdown",
      "source": [
        "# Problem 3\n",
        "\n",
        "Kullanıcıdan iki tam sayı değeri alın ve aralarında büyük olanı ekrana yazdırın.\n"
      ],
      "metadata": {
        "id": "OsED1gz0YYxa"
      }
    },
    {
      "cell_type": "code",
      "source": [
        "\n",
        "# 3. problemimiz için kodlarını buraya yazabilirsin.\n",
        "x = int(input(\"Bir sayı giriniz \"))\n",
        "y = int(input(\"İkinci sayıyı giriniz \"))\n",
        "\n",
        "if x > y:\n",
        " print(x)\n",
        "else:\n",
        " print(y)"
      ],
      "metadata": {
        "id": "J_X_k4eNYZGQ"
      },
      "execution_count": null,
      "outputs": []
    },
    {
      "cell_type": "markdown",
      "source": [
        "#Problem 4\n",
        "Bir AVM'ye ateş ölçer programı yazmalısınız.\n",
        "\n",
        "Kullanıcıya ateşini sorun daha sonra ateşinin derecesine göre AVM'ye \n",
        "girip-giremeyeceğini kullanıcıya belirtin. \n",
        "\n",
        "Program sonunda şöyle bir çıktı elde etmelisiniz:\n",
        "\n",
        "\"Ateşiniz 39 derece. AVM'ye Giremezsiniz!\""
      ],
      "metadata": {
        "id": "ZEMv0yn-YjgH"
      }
    },
    {
      "cell_type": "code",
      "source": [
        "# 4. problemimiz için kodlarını buraya yazabilirsin.\n",
        "\n",
        "print(\"AVM'ye Giriş İçin Ateş Ölçer Programına Hoş geldiniz! \\n\")\n",
        "\n",
        "ates = int(input(\"Ateşinizi giriniz: \"))\n",
        "if ates >= 39:\n",
        "  print(f\"Ateşiniz {ates} derece. AVM'ye Giremezsiniz!\")\n",
        "else:\n",
        "  print(f\"Ateşiniz {ates} derece. AVM'ye Girebilirsiniz :) \")"
      ],
      "metadata": {
        "id": "IvU0RSw6Yj8O",
        "colab": {
          "base_uri": "https://localhost:8080/"
        },
        "outputId": "56dc4cc9-524e-4765-e113-67f69c576aee"
      },
      "execution_count": null,
      "outputs": [
        {
          "output_type": "stream",
          "name": "stdout",
          "text": [
            "AVM'ye Giriş İçin Ateş Ölçer Programına Hoş geldiniz! \n",
            "\n",
            "Ateşinizi giriniz: 44\n",
            "Ateşiniz 44 derece. AVM'ye Giremezsiniz!\n"
          ]
        }
      ]
    },
    {
      "cell_type": "markdown",
      "source": [
        "# Problem 5\n",
        "Kullanıcıdan bir sayı alınız. Sayı 0'dan büyükse pozitif, 0'dan küçükse negatif sıfıra eşitse sıfır yazdırınız."
      ],
      "metadata": {
        "id": "_29_a9JoYuBu"
      }
    },
    {
      "cell_type": "code",
      "source": [
        "# 5. problemimiz için kodlarını buraya yazabilirsin.\n",
        "\n",
        "sayı = int(input(\"Lütfen bir sayı giriniz: \"))\n",
        "if sayı > 0 :\n",
        "  print(\"Sayı pozitif\")\n",
        "if sayı < 0 :\n",
        "  print(\"Sayı negatif\")\n",
        "if sayı == 0:\n",
        "  print(\"Sayı sıfır\")"
      ],
      "metadata": {
        "id": "m_K01-L6YuYd",
        "colab": {
          "base_uri": "https://localhost:8080/"
        },
        "outputId": "8e912511-0b30-4112-cdbb-b167427c531d"
      },
      "execution_count": null,
      "outputs": [
        {
          "output_type": "stream",
          "name": "stdout",
          "text": [
            "Lütfen bir sayı giriniz: -1\n",
            "Sayı negatif\n"
          ]
        }
      ]
    },
    {
      "cell_type": "markdown",
      "source": [
        "# Problem 6\n",
        "Kullanıcıdan alınan boy ve kilo değerlerine göre beden kitle indeksini hesaplayın ve şu kurallara göre ekrana şu yazıları yazdırın.\n",
        "\n",
        "\n",
        " Beden Kitle İndeksi, kişinin ağırlığının (kg olarak) boyunun karesine (m olarak) bölünmesiyle hesaplanır.\n",
        "\n",
        "\n",
        "```\n",
        " BKİ 18.5'un altındaysa -------> Zayıf\n",
        "\n",
        " BKİ 18.5 ile 25 arasındaysa ------> Normal\n",
        "\n",
        " BKİ 25 ile 30 arasındaysa --------> Fazla Kilolu\n",
        "\n",
        " BKİ 30'un üstündeyse -------------> Obez\n",
        "```\n",
        "\n"
      ],
      "metadata": {
        "id": "D2D9PfeaY-Qp"
      }
    },
    {
      "cell_type": "code",
      "source": [
        "# 6. problemimiz için kodlarını buraya yazabilirsin.\n",
        "\n",
        "boy = float(\"Boyununuzu giriniz (m) : \")\n",
        "kilo = float(\"Kilonuzu giriniz (kg) : \")\n",
        "\n",
        "BKİ = kilo/(boy)**2\n",
        "\n",
        "if BKİ < 18.5\n",
        " print(\"Zayıf\")\n",
        "elif 25 > BKİ > 18.5:\n",
        " print(\"Normal\")\n",
        "elif 30 > BKİ > 25:\n",
        " print(\"Fazla kilo\")\n",
        "elif BKİ > 30:\n",
        " print(\"Obez\")"
      ],
      "metadata": {
        "id": "2Y2L8zfXY5hE"
      },
      "execution_count": null,
      "outputs": []
    },
    {
      "cell_type": "markdown",
      "source": [
        "# Problem 7\n",
        "Kullanıcıdan isim, yaş ve eğitim bilgilerini isteyip ehliyet alabilme  durumunu kontrol ediniz. \n",
        "Ehliyet alma koşulu en az 18 ve eğitim durumu  lise ya da üniversite olmalıdır. "
      ],
      "metadata": {
        "id": "Z1jybKebZdPQ"
      }
    },
    {
      "cell_type": "code",
      "source": [
        "# 7. problemimiz için kodlarını buraya yazabilirsin.\n",
        "\n",
        "isim = input(\"İsminizi giriniz: \")\n",
        "yas = int(input(\"Lütfen yaşınızı giriniz: \")\n",
        "egitim = input(\"Eğitim durumunuzu giriniz: \")\n",
        "\n",
        "if yas >= 18\n",
        "  if egitim = lise or üniversite\n",
        "print(\"Ehliyet alabilir\")\n",
        "else:\n",
        "print(\"Ehliyet alamaz.\")"
      ],
      "metadata": {
        "id": "Laf28F6zY7hD"
      },
      "execution_count": null,
      "outputs": []
    },
    {
      "cell_type": "markdown",
      "source": [
        "# Problem 8\n",
        "Bir yılın artık yıl olup olmadığını kontrol etmek için bir program yazın. \n",
        "Artık yıl kuralı:\n",
        "\n",
        "a) Eğer yılın son iki basamağı (00) ile bitmiyor ve yalnızca 4'e tam bölünüyorsa artık yıldır. Ya da, \n",
        "\n",
        "b) Eğer yıl 400'e tam bölünüyorsa artık yıldır.\n",
        "\n",
        "**Örneğin**\n",
        "```\n",
        "2017 artık yıl değildir.\n",
        "1900 artık yıl değildir\n",
        "2012 artık yıldır.\n",
        "2000 artık yıldır.\n",
        "```\n",
        "\n",
        "\n",
        "\n",
        "\n"
      ],
      "metadata": {
        "id": "GX38Kp7eZnf1"
      }
    },
    {
      "cell_type": "code",
      "source": [
        "# 8. problemimiz için kodlarını buraya yazabilirsin.\n",
        "\n",
        "abcd = int(input(\"Yılı giriniz: \")\n",
        "\n",
        "if abcd%4==0 and abcd%100!=0:\n",
        "    print(f\"{abcd} \\n Bu bir artık yıl\")\n",
        "elif abcd%400==0:\n",
        "    print(\"\\nArtık yıl değil\")\n",
        "else:\n",
        "    print(\"\\nArtık yıl değil\")"
      ],
      "metadata": {
        "id": "bZ2_Po6gY7CR"
      },
      "execution_count": null,
      "outputs": []
    }
  ]
}
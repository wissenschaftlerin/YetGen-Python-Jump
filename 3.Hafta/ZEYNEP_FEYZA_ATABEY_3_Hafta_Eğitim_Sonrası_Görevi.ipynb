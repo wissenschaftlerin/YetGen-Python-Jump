{
  "nbformat": 4,
  "nbformat_minor": 0,
  "metadata": {
    "colab": {
      "provenance": [],
      "collapsed_sections": []
    },
    "kernelspec": {
      "name": "python3",
      "display_name": "Python 3"
    },
    "language_info": {
      "name": "python"
    }
  },
  "cells": [
    {
      "cell_type": "markdown",
      "source": [
        " # Problem 1\n",
        " Kullanıcıdan aldığınız bir sayının mükemmel olup olmadığını bulmaya çalışın.\n",
        "Bir sayının kendi hariç bölenlerinin toplamı kendine eşitse bu sayıya \"mükemmel sayı\" denir. \n",
        "\n",
        "Örnek olarak, 6 mükemmel bir sayıdır. (1 + 2 + 3 = 6)"
      ],
      "metadata": {
        "id": "XDew-TFNQIoq"
      }
    },
    {
      "cell_type": "code",
      "execution_count": null,
      "metadata": {
        "id": "OucOsSFNKBe8",
        "colab": {
          "base_uri": "https://localhost:8080/"
        },
        "outputId": "56ff8a72-7083-4b01-f3cc-4ba2739ca371"
      },
      "outputs": [
        {
          "output_type": "stream",
          "name": "stdout",
          "text": [
            "Bir sayı giriniz: 8128\n",
            "8128 sayısı mükemmel sayıdır.\n"
          ]
        }
      ],
      "source": [
        "# 1. problemimiz için kodlarını buraya yazabilirsin.\n",
        "\n",
        "sayı = int(input(\"Bir sayı giriniz: \"))\n",
        "sayının_toplamı = 0\n",
        "\n",
        "for i in range(1,sayı):\n",
        "  if sayı% i == 0:\n",
        "    sayının_toplamı+=i\n",
        "\n",
        "if sayı == sayının_toplamı:\n",
        "  print(f\" {sayı} sayısı mükemmel sayıdır.\")\n",
        "else:\n",
        "  print(f\" {sayı} sayısı mükemmel sayı değildir.\")"
      ]
    },
    {
      "cell_type": "markdown",
      "source": [
        " # Problem 2\n",
        "Kullanıcıdan aldığınız bir sayının \"Armstrong\" sayısı olup olmadığını bulmaya çalışın.\n",
        "\n",
        "Örnek olarak, Bir sayı eğer 4 basamaklı ise ve oluşturan rakamlardan herbirinin 4. kuvvetinin toplamı (3 basamaklı sayılar için 3.kuvveti) o sayıya eşitse bu sayıya \"Armstrong\" sayısı denir.\n",
        "\n",
        "Örnek olarak : 1634 = 1^4 + 6^4 + 3^4 + 4^4\n"
      ],
      "metadata": {
        "id": "E5M2z33eQOcA"
      }
    },
    {
      "cell_type": "code",
      "source": [
        "# 2. problemimiz için kodlarını buraya yazabilirsin.\n",
        "alınan_sayı = int(input(\"Lütfen bir sayı giriniz: \"))\n",
        "sayı_basamak = str(alınan_sayı)\n",
        "sayı_basamak_toplamı = 0\n",
        "\n",
        "for x in sayı_basamak:\n",
        "  y = int(x)**len(sayı_basamak)\n",
        "  sayı_basamak_toplamı += y\n",
        "\n",
        "if sayı_basamak_toplamı == alınan_sayı:\n",
        "  print(f\"Alınan sayı {alınan_sayı} Armstrong sayısıdır.\")\n",
        "else:\n",
        "  print(f\"Alınan sayı {alınan_sayı} Armstrong sayısı değildir.\")\n"
      ],
      "metadata": {
        "id": "gYqT9XwSQR9b",
        "colab": {
          "base_uri": "https://localhost:8080/"
        },
        "outputId": "0370db4c-ff28-4ac3-e085-9f5fe07c71fa"
      },
      "execution_count": null,
      "outputs": [
        {
          "output_type": "stream",
          "name": "stdout",
          "text": [
            "Lütfen bir sayı giriniz: 1634\n",
            "Alınan sayı 1634 Armstrong sayısıdır.\n"
          ]
        }
      ]
    },
    {
      "cell_type": "markdown",
      "source": [
        "# Problem 3\n",
        "1'den 10'kadar olan sayılarla ekrana çarpım tablosu bastırmaya çalışın.\n",
        "İpucu: İç içe 2 tane for döngüsü kullanın. \n",
        "\n",
        "Aynı zamanda sayıları range() fonksiyonunu kullanarak elde edin.\n"
      ],
      "metadata": {
        "id": "eZkFEeqFQg3u"
      }
    },
    {
      "cell_type": "code",
      "source": [
        "# 3. problemimiz için kodlarını buraya yazabilirsin.\n",
        "print(\"Çarpım Tablosu \\n\")\n",
        "for a in range(1,11):\n",
        "  for b in range(0,11):\n",
        "    print(f\"{a}*{b} = {a*b}\")\n",
        "  print(\"\\n---------------------------------------- \\n\")"
      ],
      "metadata": {
        "id": "Mi-rLdzBQpWM",
        "colab": {
          "base_uri": "https://localhost:8080/"
        },
        "outputId": "11ef91b5-048c-4a1c-8cc2-bb4bcd31a1cd"
      },
      "execution_count": null,
      "outputs": [
        {
          "output_type": "stream",
          "name": "stdout",
          "text": [
            "Çarpım Tablosu \n",
            "\n",
            "1*0 = 0\n",
            "1*1 = 1\n",
            "1*2 = 2\n",
            "1*3 = 3\n",
            "1*4 = 4\n",
            "1*5 = 5\n",
            "1*6 = 6\n",
            "1*7 = 7\n",
            "1*8 = 8\n",
            "1*9 = 9\n",
            "1*10 = 10\n",
            "\n",
            "---------------------------------------- \n",
            "\n",
            "2*0 = 0\n",
            "2*1 = 2\n",
            "2*2 = 4\n",
            "2*3 = 6\n",
            "2*4 = 8\n",
            "2*5 = 10\n",
            "2*6 = 12\n",
            "2*7 = 14\n",
            "2*8 = 16\n",
            "2*9 = 18\n",
            "2*10 = 20\n",
            "\n",
            "---------------------------------------- \n",
            "\n",
            "3*0 = 0\n",
            "3*1 = 3\n",
            "3*2 = 6\n",
            "3*3 = 9\n",
            "3*4 = 12\n",
            "3*5 = 15\n",
            "3*6 = 18\n",
            "3*7 = 21\n",
            "3*8 = 24\n",
            "3*9 = 27\n",
            "3*10 = 30\n",
            "\n",
            "---------------------------------------- \n",
            "\n",
            "4*0 = 0\n",
            "4*1 = 4\n",
            "4*2 = 8\n",
            "4*3 = 12\n",
            "4*4 = 16\n",
            "4*5 = 20\n",
            "4*6 = 24\n",
            "4*7 = 28\n",
            "4*8 = 32\n",
            "4*9 = 36\n",
            "4*10 = 40\n",
            "\n",
            "---------------------------------------- \n",
            "\n",
            "5*0 = 0\n",
            "5*1 = 5\n",
            "5*2 = 10\n",
            "5*3 = 15\n",
            "5*4 = 20\n",
            "5*5 = 25\n",
            "5*6 = 30\n",
            "5*7 = 35\n",
            "5*8 = 40\n",
            "5*9 = 45\n",
            "5*10 = 50\n",
            "\n",
            "---------------------------------------- \n",
            "\n",
            "6*0 = 0\n",
            "6*1 = 6\n",
            "6*2 = 12\n",
            "6*3 = 18\n",
            "6*4 = 24\n",
            "6*5 = 30\n",
            "6*6 = 36\n",
            "6*7 = 42\n",
            "6*8 = 48\n",
            "6*9 = 54\n",
            "6*10 = 60\n",
            "\n",
            "---------------------------------------- \n",
            "\n",
            "7*0 = 0\n",
            "7*1 = 7\n",
            "7*2 = 14\n",
            "7*3 = 21\n",
            "7*4 = 28\n",
            "7*5 = 35\n",
            "7*6 = 42\n",
            "7*7 = 49\n",
            "7*8 = 56\n",
            "7*9 = 63\n",
            "7*10 = 70\n",
            "\n",
            "---------------------------------------- \n",
            "\n",
            "8*0 = 0\n",
            "8*1 = 8\n",
            "8*2 = 16\n",
            "8*3 = 24\n",
            "8*4 = 32\n",
            "8*5 = 40\n",
            "8*6 = 48\n",
            "8*7 = 56\n",
            "8*8 = 64\n",
            "8*9 = 72\n",
            "8*10 = 80\n",
            "\n",
            "---------------------------------------- \n",
            "\n",
            "9*0 = 0\n",
            "9*1 = 9\n",
            "9*2 = 18\n",
            "9*3 = 27\n",
            "9*4 = 36\n",
            "9*5 = 45\n",
            "9*6 = 54\n",
            "9*7 = 63\n",
            "9*8 = 72\n",
            "9*9 = 81\n",
            "9*10 = 90\n",
            "\n",
            "---------------------------------------- \n",
            "\n",
            "10*0 = 0\n",
            "10*1 = 10\n",
            "10*2 = 20\n",
            "10*3 = 30\n",
            "10*4 = 40\n",
            "10*5 = 50\n",
            "10*6 = 60\n",
            "10*7 = 70\n",
            "10*8 = 80\n",
            "10*9 = 90\n",
            "10*10 = 100\n",
            "\n",
            "---------------------------------------- \n",
            "\n"
          ]
        }
      ]
    },
    {
      "cell_type": "markdown",
      "source": [
        "#Problem 4\n",
        "\n",
        "Her bir while döngüsünde kullanıcıdan bir sayı alın ve kullanıcının girdiği sayıları \"toplam\" isimli bir değişkene ekleyin. Kullanıcı \"q\" tuşuna bastığı zaman döngüyü sonlandırın ve ekrana \"toplam değişkenini\" bastırın.\n",
        "\n",
        "İpucu : while döngüsünü sonsuz koşulla başlatın ve kullanıcı q'ya basarsa döngüyü break ile sonlandırın."
      ],
      "metadata": {
        "id": "fRyptEWUQtzK"
      }
    },
    {
      "cell_type": "code",
      "source": [
        "# 4. problemimiz için kodlarını buraya yazabilirsin.\n",
        "toplam = 0\n",
        "while True:\n",
        "  secim = input(\"Döngüden çıkmak için 'q' harfine basın. Devam etmek için sayı giriniz: \")\n",
        "\n",
        "  if secim == \"q\":\n",
        "   print(\"Uygulama sonlandırılmıştır.\")\n",
        "   break\n",
        "  else:\n",
        "    devam_sayı = int(secim)\n",
        "    toplam += devam_sayı\n",
        "print(toplam)\n"
      ],
      "metadata": {
        "id": "QFzIK-qYQxpK",
        "colab": {
          "base_uri": "https://localhost:8080/"
        },
        "outputId": "17249a24-7c8c-4783-aeda-8f35f321f9b6"
      },
      "execution_count": null,
      "outputs": [
        {
          "output_type": "stream",
          "name": "stdout",
          "text": [
            "Döngüden çıkmak için 'q' harfine basın. Devam etmek için sayı giriniz: 4\n",
            "Döngüden çıkmak için 'q' harfine basın. Devam etmek için sayı giriniz: 5\n",
            "Döngüden çıkmak için 'q' harfine basın. Devam etmek için sayı giriniz: 10\n",
            "Döngüden çıkmak için 'q' harfine basın. Devam etmek için sayı giriniz: q\n",
            "Uygulama sonlandırılmıştır.\n",
            "19\n"
          ]
        }
      ]
    },
    {
      "cell_type": "markdown",
      "source": [
        "#Problem 5\n",
        "1'den 100'e kadar olan sayılardan sadece 3'e bölünen sayıları ekrana bastırın. Bu işlemi continue ile yapmaya çalışın."
      ],
      "metadata": {
        "id": "PAVZdlprQ88X"
      }
    },
    {
      "cell_type": "code",
      "source": [
        "# 5. problemimiz için kodlarını buraya yazabilirsin.\n",
        "for i in range(1,101):\n",
        "  if i % 3 == 0:\n",
        "    print(i)\n",
        "  else:\n",
        "    continue\n"
      ],
      "metadata": {
        "id": "bSCnhFnfRAgf",
        "colab": {
          "base_uri": "https://localhost:8080/"
        },
        "outputId": "a7fd5fd7-a1d9-46bf-b28a-8e4dc9e46f4e"
      },
      "execution_count": null,
      "outputs": [
        {
          "output_type": "stream",
          "name": "stdout",
          "text": [
            "3\n",
            "6\n",
            "9\n",
            "12\n",
            "15\n",
            "18\n",
            "21\n",
            "24\n",
            "27\n",
            "30\n",
            "33\n",
            "36\n",
            "39\n",
            "42\n",
            "45\n",
            "48\n",
            "51\n",
            "54\n",
            "57\n",
            "60\n",
            "63\n",
            "66\n",
            "69\n",
            "72\n",
            "75\n",
            "78\n",
            "81\n",
            "84\n",
            "87\n",
            "90\n",
            "93\n",
            "96\n",
            "99\n"
          ]
        }
      ]
    },
    {
      "cell_type": "markdown",
      "source": [
        "#Problem 6\n",
        "Buradaki problemin çözümünü derslerimizde özellikle öğrenmedik. Burada mantık yürüterek ve list comprehension kullanarak 1'den 100'e kadar olan sayılardan sadece çift sayıları bir listeye atmayı yapmayı çalışın."
      ],
      "metadata": {
        "id": "CjT-kfO0RGTQ"
      }
    },
    {
      "cell_type": "code",
      "source": [
        "# 6. problemimiz için kodlarını buraya yazabilirsin.\n",
        "liste = [ x for x in range(1,101) if x %2 == 0]\n",
        "print(liste)"
      ],
      "metadata": {
        "id": "l2-hdDjvluKg",
        "colab": {
          "base_uri": "https://localhost:8080/"
        },
        "outputId": "08b65312-2cd0-4dd9-efd7-9cfa00d1dc30"
      },
      "execution_count": null,
      "outputs": [
        {
          "metadata": {
            "tags": null
          },
          "name": "stdout",
          "output_type": "stream",
          "text": [
            "[2, 4, 6, 8, 10, 12, 14, 16, 18, 20, 22, 24, 26, 28, 30, 32, 34, 36, 38, 40, 42, 44, 46, 48, 50, 52, 54, 56, 58, 60, 62, 64, 66, 68, 70, 72, 74, 76, 78, 80, 82, 84, 86, 88, 90, 92, 94, 96, 98, 100]\n"
          ]
        }
      ]
    }
  ]
}
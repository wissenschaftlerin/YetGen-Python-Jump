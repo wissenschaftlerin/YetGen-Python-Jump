{
  "metadata": {
    "kernelspec": {
      "language": "python",
      "display_name": "Python 3",
      "name": "python3"
    },
    "language_info": {
      "name": "python",
      "version": "3.7.6",
      "mimetype": "text/x-python",
      "codemirror_mode": {
        "name": "ipython",
        "version": 3
      },
      "pygments_lexer": "ipython3",
      "nbconvert_exporter": "python",
      "file_extension": ".py"
    },
    "colab": {
      "provenance": [],
      "collapsed_sections": []
    }
  },
  "nbformat_minor": 0,
  "nbformat": 4,
  "cells": [
    {
      "cell_type": "markdown",
      "source": [
        "# Problem 1 \n",
        "\n",
        "Vehicle sınıfının tüm değişkenlerini ve yöntemlerini devralacak bir alt sınıf olarak Bus sınıfı oluşturunuz.\n",
        "\n",
        "\n",
        "\n",
        "```\n",
        "Output\n",
        "> Name: School Volvo Speed: 180 Mileage: 12\n",
        "```\n",
        "\n"
      ],
      "metadata": {
        "id": "TgThq8IVSaxd"
      }
    },
    {
      "cell_type": "code",
      "source": [
        "class Vehicle:\n",
        "\n",
        "    def __init__(self, name, max_speed, mileage):\n",
        "        self.name = name\n",
        "        self.max_speed = max_speed\n",
        "        self.mileage = mileage\n",
        "\n",
        "# 1. problemimiz için kodlarını buraya yazabilirsin.\n",
        "\n",
        "class Bus(Vehicle):\n",
        "    pass\n",
        "\n",
        "School_bus = Bus(\"School Volvo\", 180, 12)\n",
        "print(\"Name:\", School_bus.name, \"Speed:\", School_bus.max_speed, \"Mileage:\", School_bus.mileage)"
      ],
      "metadata": {
        "id": "pE4g7ofvTL03",
        "colab": {
          "base_uri": "https://localhost:8080/"
        },
        "outputId": "b3286887-821b-4920-af09-7ada4287d0de"
      },
      "execution_count": null,
      "outputs": [
        {
          "output_type": "stream",
          "name": "stdout",
          "text": [
            "Name: School Volvo Speed: 180 Mileage: 12\n"
          ]
        }
      ]
    },
    {
      "cell_type": "markdown",
      "source": [
        "# Problem 2\n",
        "Vehicle sınıfından miras alan bir Bus sınıfı oluşturun. Bus.seating_capacity()'nin kapasite bağımsız değişkenine varsayılan olarak 50 değerini verin.\n",
        "\n",
        "```\n",
        "Output:\n",
        "> The seating capacity of a bus is 50 passengers\n",
        "```\n",
        "\n",
        "\n"
      ],
      "metadata": {
        "id": "QClZllGoTTHo"
      }
    },
    {
      "cell_type": "code",
      "source": [
        "# Vehicle sınıfınız için aşağıdaki kodu kullanın.\n",
        "class Vehicle:\n",
        "    def __init__(self, name, max_speed, mileage):\n",
        "        self.name = name\n",
        "        self.max_speed = max_speed\n",
        "        self.mileage = mileage\n",
        "\n",
        "    def seating_capacity(self, capacity):\n",
        "        return f\"The seating capacity of a {self.name} is {capacity} passengers\"\n",
        "\n",
        "# 2. problemimiz için kodlarını buraya yazabilirsin.\n",
        "\n",
        "class Bus(Vehicle):\n",
        "    # Kapasiteye varsayılan değer atıyoruz.\n",
        "    def seating_capacity(self, capacity=50):\n",
        "        return super().seating_capacity(capacity=50)\n",
        "\n",
        "School_bus = Bus(\"bus\", 180, 12)\n",
        "print(School_bus.seating_capacity())"
      ],
      "metadata": {
        "id": "tXLxdXevTr7-",
        "colab": {
          "base_uri": "https://localhost:8080/"
        },
        "outputId": "72381d86-3f20-4902-9c3f-2da32d06a8b0"
      },
      "execution_count": null,
      "outputs": [
        {
          "output_type": "stream",
          "name": "stdout",
          "text": [
            "The seating capacity of a bus is 50 passengers\n"
          ]
        }
      ]
    },
    {
      "cell_type": "markdown",
      "source": [
        "# Problem 3\n",
        "\n",
        "\n",
        "School_bus'ın aynı zamanda Vehicle sınıfının bir örneği olup olmadığını belirleyiniz."
      ],
      "metadata": {
        "id": "Y6rL7WoqUeX0"
      }
    },
    {
      "cell_type": "code",
      "source": [
        "class Vehicle:\n",
        "    def __init__(self, name, mileage, capacity):\n",
        "        self.name = name\n",
        "        self.mileage = mileage\n",
        "        self.capacity = capacity\n",
        "\n",
        "class Bus(Vehicle):\n",
        "    pass\n",
        "\n",
        "School_bus = Bus(\"School Volvo\", 12, 50)\n",
        "\n",
        "# 3. problemimiz için kodlarını buraya yazabilirsin.\n",
        "\n",
        "print(isinstance(School_bus, Vehicle))"
      ],
      "metadata": {
        "id": "MlMrIrOPUsPb",
        "colab": {
          "base_uri": "https://localhost:8080/"
        },
        "outputId": "136da80f-8168-4262-e97a-8615408c51f2"
      },
      "execution_count": null,
      "outputs": [
        {
          "output_type": "stream",
          "name": "stdout",
          "text": [
            "True\n"
          ]
        }
      ]
    }
  ]
}
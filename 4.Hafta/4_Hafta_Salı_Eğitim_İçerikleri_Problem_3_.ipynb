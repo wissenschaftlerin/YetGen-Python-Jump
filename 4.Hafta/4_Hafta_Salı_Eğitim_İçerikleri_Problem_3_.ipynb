{
  "nbformat": 4,
  "nbformat_minor": 0,
  "metadata": {
    "colab": {
      "provenance": [],
      "collapsed_sections": []
    },
    "kernelspec": {
      "name": "python3",
      "display_name": "Python 3"
    },
    "language_info": {
      "name": "python"
    }
  },
  "cells": [
    {
      "cell_type": "markdown",
      "source": [
        "# Problem 3\n",
        "1'den 100'e kadar tam sayıları aşağıdaki kurallara göre işlemleri yaptırınız.\n",
        "- Sayı 3'e tam bölünüyorsa fizz listesine,\n",
        "- Sayı 5'e tam bölünüyorsa buzz listesine,\n",
        "- Sayı hem 3'e hem 5'e tam bölünüyorsa fizzBuzz listesine,\n",
        "- Geri kalan sayıları ise numbers listesine ekleyelim.\n",
        "\n",
        "Oluşturduğunuz listeleri ekrana bastırınız."
      ],
      "metadata": {
        "id": "Rv5XIR41tJAt"
      }
    },
    {
      "cell_type": "code",
      "source": [
        "liste = []\n",
        "a =0\n",
        "while a<100:\n",
        "    a = a+1\n",
        "    liste.append(a)\n",
        "\n",
        "fizz = []\n",
        "buzz = []\n",
        "fizzBuzz = []\n",
        "numbers = []\n",
        "\n",
        "for number in liste:\n",
        "  if number % 3 == 0:\n",
        "    fizz.append(number)\n",
        "    if number % 5 == 0:\n",
        "      buzz.append(number)\n",
        "      if number % 3 == 0 and number % 5 == 0:\n",
        "        fizzBuzz.append(number)\n",
        "      else:\n",
        "        numbers.append(number)\n",
        "\n",
        "print(fizz)\n",
        "print(buzz)\n",
        "print(fizzBuzz)\n",
        "print(numbers)\n",
        "  \n"
      ],
      "metadata": {
        "id": "vrK2Lt4-mtsR",
        "outputId": "56b245ac-6387-41c1-87e9-da8fa46d36ef",
        "colab": {
          "base_uri": "https://localhost:8080/"
        }
      },
      "execution_count": null,
      "outputs": [
        {
          "output_type": "stream",
          "name": "stdout",
          "text": [
            "[3, 6, 9, 12, 15, 18, 21, 24, 27, 30, 33, 36, 39, 42, 45, 48, 51, 54, 57, 60, 63, 66, 69, 72, 75, 78, 81, 84, 87, 90, 93, 96, 99]\n",
            "[15, 30, 45, 60, 75, 90]\n",
            "[15, 30, 45, 60, 75, 90]\n",
            "[]\n"
          ]
        }
      ]
    }
  ]
}
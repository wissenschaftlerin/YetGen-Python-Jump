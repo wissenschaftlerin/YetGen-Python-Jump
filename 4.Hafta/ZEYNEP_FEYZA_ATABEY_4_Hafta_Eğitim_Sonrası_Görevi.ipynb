{
  "nbformat": 4,
  "nbformat_minor": 0,
  "metadata": {
    "colab": {
      "provenance": [],
      "collapsed_sections": []
    },
    "kernelspec": {
      "name": "python3",
      "display_name": "Python 3"
    },
    "language_info": {
      "name": "python"
    }
  },
  "cells": [
    {
      "cell_type": "markdown",
      "source": [
        "# Problem 1\n",
        "`ogrenciler` adında bir sözlük oluşturunuz. Kullanıcıdan döngü yardımıyla 3 öğrenci için veri girmesini isteyerek öğrencilerin sırasıyla okul numarası, isim, soy isim, telefon numarası ve doğum tarihi bilgilerini alınız. Aldığınız öğrenci bilgilerini yine aynı döngü yardımıyla `ogrenciler` adındaki sözlükte saklayınız. Daha sonra öğrenci bilgilerinin bulunduğu sözlük yapısını ekrana bastırınız.\n",
        "\n"
      ],
      "metadata": {
        "id": "9SIIri9AXbPN"
      }
    },
    {
      "cell_type": "code",
      "execution_count": null,
      "metadata": {
        "id": "z7Mxxk2mQj3P",
        "colab": {
          "base_uri": "https://localhost:8080/"
        },
        "outputId": "b6ccaea0-67ff-4ed3-b11d-b99e719052b7"
      },
      "outputs": [
        {
          "output_type": "stream",
          "name": "stdout",
          "text": [
            "Okul numaranızı yazınız: 32424\n",
            "İsminizi giriniz: 2432\n",
            "Soy isminizi giriniz: 234234\n",
            "Telefon numarasnızı giriniz: 424\n",
            "Doğum tarihinizi giriniz: 24234\n",
            "Okul numaranızı yazınız: 24234\n",
            "İsminizi giriniz: 4234\n",
            "Soy isminizi giriniz: 2423\n",
            "Telefon numarasnızı giriniz: 42342\n",
            "Doğum tarihinizi giriniz: 24324\n",
            "Okul numaranızı yazınız: 222432\n",
            "İsminizi giriniz: 423432\n",
            "Soy isminizi giriniz: 23423\n",
            "Telefon numarasnızı giriniz: 2432\n",
            "Doğum tarihinizi giriniz: 23423\n",
            "{'2432': ['Soy ismi:', '234234', 'Okul numarası:', '32424', 'Telefon numarası:', '424', 'Doğum tarihi:', '24234', '/n'], '4234': ['Soy ismi:', '2423', 'Okul numarası:', '24234', 'Telefon numarası:', '42342', 'Doğum tarihi:', '24324', '/n'], '423432': ['Soy ismi:', '23423', 'Okul numarası:', '222432', 'Telefon numarası:', '2432', 'Doğum tarihi:', '23423', '/n']}\n"
          ]
        }
      ],
      "source": [
        "# 1. problemimiz için kodlarını buraya yazabilirsin.\n",
        "\n",
        "ogrenciler = {}\n",
        "for i in range(3):\n",
        "  okul_numarası = input(\"Okul numaranızı yazınız: \")\n",
        "  isim = input(\"İsminizi giriniz: \")\n",
        "  soy_isim = input(\"Soy isminizi giriniz: \")\n",
        "  telefon_numarası = input(\"Telefon numarasnızı giriniz: \")\n",
        "  dogum_tarihi = input(\"Doğum tarihinizi giriniz: \")\n",
        "  \n",
        "  ogrenciler[isim] = [ \"Soy ismi:\", str(soy_isim) , \"Okul numarası:\" , str(okul_numarası) , \"Telefon numarası:\", str(telefon_numarası) ,\"Doğum tarihi:\", str(dogum_tarihi) ]\n",
        "\n",
        "print(ogrenciler)"
      ]
    },
    {
      "cell_type": "code",
      "source": [
        "type(ogrenciler)"
      ],
      "metadata": {
        "colab": {
          "base_uri": "https://localhost:8080/"
        },
        "id": "L17ssovqaupb",
        "outputId": "7df78e72-760f-4d2b-bf08-051ae33c096c"
      },
      "execution_count": null,
      "outputs": [
        {
          "output_type": "execute_result",
          "data": {
            "text/plain": [
              "dict"
            ]
          },
          "metadata": {},
          "execution_count": 13
        }
      ]
    },
    {
      "cell_type": "code",
      "source": [
        "# En iyi çözüm bu oldu :)\n",
        "\n",
        "ogrenciler = {}\n",
        "\n",
        "max_length = 3\n",
        "\n",
        "while len(ogrenciler) < max_length:\n",
        "  okul_numarası = input(\"Öğrencinin okul numarasını yazınız: \")\n",
        "  isim = input(\"Öğrencinin ismini giriniz: \")\n",
        "  soy_isim = input(\"Öğrencinin soy ismini giriniz: \")\n",
        "  telefon_numarası = input(\"Öğrencinin telefon numarasını giriniz: \")\n",
        "  dogum_tarihi = input(\"Öğrencinin doğum tarihini giriniz: \")\n",
        "  print(\"----------------------------------------------------\")\n",
        "  \n",
        "  ogrenciler[isim] = {\"Soy İsmi\" : str(soy_isim) ,\n",
        "                      \"Okul Numarası\" : str(okul_numarası) ,\n",
        "                      \"Telefon Numarası\" : str(telefon_numarası) ,\n",
        "                      \"Doğum Tarihi\" : str(dogum_tarihi) \n",
        "}\n",
        "\n",
        "for isim in ogrenciler:\n",
        "    print(\"Öğrencinin İsmi:\" , isim, ' = ', ogrenciler[isim])\n",
        "\n",
        "# print(ogrenciler)"
      ],
      "metadata": {
        "colab": {
          "base_uri": "https://localhost:8080/"
        },
        "id": "HtJzu0r_YJPl",
        "outputId": "4fecd691-4ed3-420f-8383-b66101f1868d"
      },
      "execution_count": null,
      "outputs": [
        {
          "output_type": "stream",
          "name": "stdout",
          "text": [
            "Öğrencinin okul numarasını yazınız: 180102043\n",
            "Öğrencinin ismini giriniz: Feyza\n",
            "Öğrencinin soy ismini giriniz: Atabey\n",
            "Öğrencinin telefon numarasını giriniz: 5464665630\n",
            "Öğrencinin doğum tarihini giriniz: 22/02/1999\n",
            "----------------------------------------------------\n",
            "Öğrencinin okul numarasını yazınız: 171010\n",
            "Öğrencinin ismini giriniz: Bora\n",
            "Öğrencinin soy ismini giriniz: Ormancı\n",
            "Öğrencinin telefon numarasını giriniz: 5684525224\n",
            "Öğrencinin doğum tarihini giriniz: 23/02/1999\n",
            "----------------------------------------------------\n",
            "Öğrencinin okul numarasını yazınız: 543525\n",
            "Öğrencinin ismini giriniz: Hale\n",
            "Öğrencinin soy ismini giriniz: Masal\n",
            "Öğrencinin telefon numarasını giriniz: 5342888560\n",
            "Öğrencinin doğum tarihini giriniz: 06/09/2000\n",
            "----------------------------------------------------\n",
            "Öğrencinin İsmi: Feyza  =  {'Soy İsmi': 'Atabey', 'Okul Numarası': '180102043', 'Telefon Numarası': '5464665630', 'Doğum Tarihi': '22/02/1999'}\n",
            "Öğrencinin İsmi: Bora  =  {'Soy İsmi': 'Ormancı', 'Okul Numarası': '171010', 'Telefon Numarası': '5684525224', 'Doğum Tarihi': '23/02/1999'}\n",
            "Öğrencinin İsmi: Hale  =  {'Soy İsmi': 'Masal', 'Okul Numarası': '543525', 'Telefon Numarası': '5342888560', 'Doğum Tarihi': '06/09/2000'}\n"
          ]
        }
      ]
    },
    {
      "cell_type": "markdown",
      "source": [
        "# Problem 2\n",
        "\n",
        "\n"
      ],
      "metadata": {
        "id": "OsED1gz0YYxa"
      }
    },
    {
      "cell_type": "markdown",
      "source": [
        "**a) 2. probleme biraz ısınarak başlayalım!**\n",
        "\n",
        "\n",
        "\n"
      ],
      "metadata": {
        "id": "aUaYz8zVLpGJ"
      }
    },
    {
      "cell_type": "markdown",
      "source": [
        "```\n",
        "numbers = [5,10,10,15,15,15,20,20,20,20]\n",
        "```\n",
        "\n",
        "Yukarıda `numbers` adında 10 elemanlı bir liste verilmiştir. Bu listenin her elemanını kontrol eden ve tekrar eden elemanları bir kez olacak şekilde başka bir listeye kopyalayan bir program yazınız. Son olarak oluşturduğunuz listeyi ekrana bastırınız.\n",
        "\n",
        "\n",
        "\n",
        "\n",
        "```\n",
        ">Output\n",
        "[5, 10, 15, 20]\n",
        "```\n"
      ],
      "metadata": {
        "id": "O7YlfB2_LkQT"
      }
    },
    {
      "cell_type": "code",
      "source": [
        "# 2. problemimizin \"a\" şıkkı için kodlarını buraya yazabilirsin.\n",
        "\n",
        "numbers = [5,10,10,15,15,15,20,20,20,20]\n",
        "liste = list(set(numbers))\n",
        "print(liste)"
      ],
      "metadata": {
        "id": "J_X_k4eNYZGQ",
        "colab": {
          "base_uri": "https://localhost:8080/"
        },
        "outputId": "212b28f3-1424-453f-e334-4033b221e127"
      },
      "execution_count": null,
      "outputs": [
        {
          "output_type": "stream",
          "name": "stdout",
          "text": [
            "[10, 20, 5, 15]\n"
          ]
        }
      ]
    },
    {
      "cell_type": "markdown",
      "source": [
        "**🌶️ b) Hadi işi biraz daha zorlaştıralım!** \n"
      ],
      "metadata": {
        "id": "MKRfcVhGJ5LX"
      }
    },
    {
      "cell_type": "markdown",
      "source": [
        "Şimdiyse senden `numbers` isimli listedeki tekrar eden elemanları `repeatNumbers` adındaki listeye; tekrar etmeyen elemanları `uniqueNumbers`adındaki listeye kopyalayan yazmanı ve listeleri ekrana bastırmanı bekliyoruz\n",
        "\n",
        "```\n",
        ">Output\n",
        "Tekrar Eden Elemanlar: [10, 10, 15, 15, 15, 20, 20, 20, 20]\n",
        "Tekrar Etmeyen Elemanlar: [5]\n",
        "```"
      ],
      "metadata": {
        "id": "zwaBiEOYMD2T"
      }
    },
    {
      "cell_type": "code",
      "source": [
        "# 2. problemimizin \"b\" şıkkı için kodlarını buraya yazabilirsin.\n",
        "\n",
        "numbers = [5,10,10,15,15,15,20,20,20,20]\n",
        "unique = []\n",
        "repeat = []\n",
        "for i in numbers:\n",
        "  if numbers.count(i) ==1:\n",
        "    unique.append(i)\n",
        "  else:\n",
        "    repeat.append(i)\n",
        "\n",
        "print(\"Unique Numbers: \", unique)\n",
        "print(\"Repeat Numbers: \" , repeat)"
      ],
      "metadata": {
        "id": "EDjDVHtlNNt-",
        "colab": {
          "base_uri": "https://localhost:8080/"
        },
        "outputId": "605c7ad5-9b9d-410f-8c30-2ac3d9ea057c"
      },
      "execution_count": null,
      "outputs": [
        {
          "output_type": "stream",
          "name": "stdout",
          "text": [
            "Unique Numbers:  [5]\n",
            "Repeat Numbers:  [10, 10, 15, 15, 15, 20, 20, 20, 20]\n"
          ]
        }
      ]
    },
    {
      "cell_type": "markdown",
      "source": [
        "# Problem 3\n",
        "\n",
        "sn1 = {1,2,3,4,5}\n",
        "\n",
        "sn2 = {4,5,6,7,8}\n",
        "\n",
        " Verilen 2 adet küme için kesişimlerini, farklarını ve birleşimlerini bulunuz. \t "
      ],
      "metadata": {
        "id": "D2D9PfeaY-Qp"
      }
    },
    {
      "cell_type": "code",
      "source": [
        "# 3. problemimiz için kodlarını buraya yazabilirsin.\n",
        "\n",
        "sn1 = {1,2,3,4,5}\n",
        "sn2 = {4,5,6,7,8}\n",
        "\n",
        "print(\"Kesişimleri: \" , sn1 & sn2 )    # Alternatif sn1.intersection(sn2)\n",
        "print(\"Birleşimleri: \" , sn1 | sn2 )\n",
        "print(\"sn1'nin sn2'ye göre farkı: \" , sn1 - sn2 )\n",
        "print(\"sn2'nin sn1'ye göre farkı: \" , sn2 - sn1 )\n"
      ],
      "metadata": {
        "id": "m_K01-L6YuYd",
        "colab": {
          "base_uri": "https://localhost:8080/"
        },
        "outputId": "0053bc47-fa1d-47c1-9397-617e01b39db9"
      },
      "execution_count": null,
      "outputs": [
        {
          "output_type": "stream",
          "name": "stdout",
          "text": [
            "Kesişimleri:  {4, 5}\n",
            "Birleşimleri:  {1, 2, 3, 4, 5, 6, 7, 8}\n",
            "sn1'nin sn2'ye göre farkı:  {1, 2, 3}\n",
            "sn2'nin sn1'ye göre farkı:  {8, 6, 7}\n"
          ]
        }
      ]
    },
    {
      "cell_type": "markdown",
      "source": [
        "#Problem 4\n",
        "\n",
        "[(\"xxx\",1),(\"xxx\",2),(\"xxx\",9),(\"xxx\",3), (\"xxx\",1),(\"xxx\",13),(\"xxx\",26),(\"xxx\",4)] listesi içerisinde verilen elemanların her birini tuple içindeki 2. Elemana göre sıralayınız. \n",
        "\n",
        "\n",
        "YetNot: Bu problem için ilerleyen haftalarda göreceğimiz ```lambda``` fonksiyonunu araştırabilirsiniz. Doğru araştırmayla, doğru cevaba ulaşabileceğiniz eminiz!\n"
      ],
      "metadata": {
        "id": "ZEMv0yn-YjgH"
      }
    },
    {
      "cell_type": "code",
      "source": [
        "# 4. problemimiz için kodlarını buraya yazabilirsin.\n",
        "liste = [(\"xxx\",1),(\"xxx\",2),(\"xxx\",9),(\"xxx\",3), (\"xxx\",1),(\"xxx\",13),(\"xxx\",26),(\"xxx\",4)]\n",
        "print(sorted(liste, key = lambda x:x[1]))\n"
      ],
      "metadata": {
        "id": "2Y2L8zfXY5hE",
        "colab": {
          "base_uri": "https://localhost:8080/"
        },
        "outputId": "6d131c7e-3516-4981-b8bb-6180fc799cf4"
      },
      "execution_count": null,
      "outputs": [
        {
          "output_type": "stream",
          "name": "stdout",
          "text": [
            "[('xxx', 1), ('xxx', 1), ('xxx', 2), ('xxx', 3), ('xxx', 4), ('xxx', 9), ('xxx', 13), ('xxx', 26)]\n"
          ]
        }
      ]
    }
  ]
}
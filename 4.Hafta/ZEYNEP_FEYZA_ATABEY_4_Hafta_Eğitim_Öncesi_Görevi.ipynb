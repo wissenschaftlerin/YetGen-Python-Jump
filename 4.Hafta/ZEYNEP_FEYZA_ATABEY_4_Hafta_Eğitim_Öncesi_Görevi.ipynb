{
  "nbformat": 4,
  "nbformat_minor": 0,
  "metadata": {
    "colab": {
      "provenance": [],
      "collapsed_sections": []
    },
    "kernelspec": {
      "name": "python3",
      "display_name": "Python 3"
    },
    "language_info": {
      "name": "python"
    }
  },
  "cells": [
    {
      "cell_type": "markdown",
      "source": [
        "# Problem 1\n",
        "Sözlükleri kullanarak bir telefon rehberi yazın. Bu rehberde kullanıcıya kimin telefonunu görüntülemek istediğini sorun ve kullanıcının girdiği isme göre o kişinin telefon numarasını yazdırın. Proje sonunda elde edeceğiniz çıktı  şuna benzer olmalı:\n",
        "\n",
        "\n",
        "Lütfen numarasını öğrenmek istediğiniz kişinin adını girin: Ahmet\n",
        "Ahmet isimli kişinin numarası şu şekildedir: 0532 862 98 47"
      ],
      "metadata": {
        "id": "9SIIri9AXbPN"
      }
    },
    {
      "cell_type": "code",
      "execution_count": null,
      "metadata": {
        "id": "z7Mxxk2mQj3P",
        "colab": {
          "base_uri": "https://localhost:8080/"
        },
        "outputId": "4deb3655-812d-4687-9491-c4666c2db2a1"
      },
      "outputs": [
        {
          "output_type": "stream",
          "name": "stdout",
          "text": [
            "Görüntülemek istediğiniz kullanıcının ismini yazınız: Ahmet Ahmet\n",
            "Ahmet Ahmet 05328629847\n"
          ]
        }
      ],
      "source": [
        "# 1. problemimiz için kodlarını buraya yazabilirsin.\n",
        "telefon_rehberi = { \"Ahmet Ahmet\" : \"05328629847\" , \"Yaren\" : \"05389563232\"}\n",
        "isim = input(\"Görüntülemek istediğiniz kullanıcının ismini yazınız: \")\n",
        "for isim in telefon_rehberi:\n",
        "  print(isim , telefon_rehberi[isim])\n"
      ]
    },
    {
      "cell_type": "markdown",
      "source": [
        "# Problem 2\n",
        "Sözlükleri kullanarak bir şirket çalışanları indeksi oluşturun. Bu isim indeksinde kişilerin isimleri key, kişilerin şu \n",
        "bilgileri de value olmalı: memleket, yaş, görev. Burada kullanacağımız value liste olmalı. \n",
        "\n",
        "\n",
        "Daha sonra bir isim sorgulama ekranı gibi kullanıcıya kimin bilgilerini görüntülemek istediğini \n",
        "sorun ve sorgulanan kişinin ekranda gösterilmesini sağlayın. Proje sonunda elde edeceğiniz çıktı şu şekilde olmalı:\n",
        "\n",
        "\n",
        "Lütfen bilgilerini görüntülemek istediğiniz çalışanın ismini girin: Mehmet Yağız\n",
        "Mehmet Yağız= Memleket: Adana Yaş: 40 Görev: Direktör"
      ],
      "metadata": {
        "id": "idPSxmhFX4-e"
      }
    },
    {
      "cell_type": "code",
      "source": [
        "# 2. problemimiz için kodlarını buraya yazabilirsin.\n",
        "memleket = { \"Ahmet\" : \"Ankara\" , \"Yaren\" : \"İstanbul\" , \"Feyza\" : \"Ankara\"} \n",
        "yas = { \"Ahmet\" : \"30\" , \"Yaren\" : \"27\" , \"Feyza\" : \"23\"} \n",
        "gorev = { \"Ahmet\" : \"Memur\" , \"Yaren\" : \"Data Scientist\" , \"Feyza\" : \"Bioinformatic Specialist\"} \n",
        "istenen_kisi = input(\"Görüntülemek istediğiniz çalışanın ismini girin: \")\n",
        "print(istenen_kisi, \"=\" ,\"Memleket:\",memleket[istenen_kisi] ,\"Yaş:\", yas[istenen_kisi] ,\"Görev:\",gorev[istenen_kisi])"
      ],
      "metadata": {
        "id": "nDS9MpcwYL4q",
        "colab": {
          "base_uri": "https://localhost:8080/"
        },
        "outputId": "cf0f90d9-a9ae-4e2c-839a-09c27e4aaaf0"
      },
      "execution_count": null,
      "outputs": [
        {
          "output_type": "stream",
          "name": "stdout",
          "text": [
            "Görüntülemek istediğiniz çalışanın ismini girin: Feyza\n",
            "Feyza = Memleket: Ankara Yaş: 23 Görev: Bioinformatic Specialist\n"
          ]
        }
      ]
    },
    {
      "cell_type": "markdown",
      "source": [
        "# Problem 3\n",
        "\n",
        "5 öğrenciden oluşan bir öğrenci not sözlüğü oluşturun. Bu sözlükte \n",
        "öğrencilerin notları value olarak bir listede toplansın.\n",
        "\n",
        "Kullanıcıya hangi öğrencinin notlarını görmek istediğini sorun. \n",
        "\n",
        "Öğrencinin notu görüntülendiğinde program sonunda şöyle bir çıktı elde etmelisiniz:\n",
        "```\n",
        "Lütfen notlarını görmek istediğiniz öğrencinin adını girin: Mehmet\n",
        "\n",
        "Mehmet isimli öğrencinin      1.Sınav Notu:72\n",
        "                              2.Sınav Notu:66\n",
        "\n",
        "                              3.Sınav Notu:48\n",
        "Not Ortalaması: 62.0\n"
      ],
      "metadata": {
        "id": "OsED1gz0YYxa"
      }
    },
    {
      "cell_type": "code",
      "source": [
        "# 3. problemimiz için kodlarını buraya yazabilirsin.\n",
        "import numpy as np\n",
        "sınav_notları = { \"Mehmet\" : np.array([72 ,66,48]) , \"Yaren\" : np.array([80 ,68, 100]) , \"Feyza\" : np.array([44 , 85, 90]) , \"Kemal\" : np.array([77,80,45]) , \"İmdat\" : np.array([88,60,24])}\n",
        "ogrenci_ismi = input(\"Lütfen hangi öğrencinin notunu görmek istediğinizi giriniz: \")\n",
        "not_ortalama = sınav_notları[ogrenci_ismi].mean()\n",
        "print(str(ogrenci_ismi) + \" isimli öğrencinin\" + \"\\n 1. Sınavı:\" + str(sınav_notları[ogrenci_ismi][0]) +\"\\n 2. Sınavı:\" + str(sınav_notları[ogrenci_ismi][1]) + \"\\n 3. Sınavı:\" + str(sınav_notları[ogrenci_ismi][2]) + \"\\n Not Ortalaması:\" + str(not_ortalama))\n"
      ],
      "metadata": {
        "id": "J_X_k4eNYZGQ",
        "colab": {
          "base_uri": "https://localhost:8080/"
        },
        "outputId": "4d7a87a1-503c-47b6-f6cf-5f0340ae32fe"
      },
      "execution_count": null,
      "outputs": [
        {
          "output_type": "stream",
          "name": "stdout",
          "text": [
            "Lütfen hangi öğrencinin notunu görmek istediğinizi giriniz: İmdat\n",
            "İmdat isimli öğrencinin\n",
            " 1. Sınavı:88\n",
            " 2. Sınavı:60\n",
            " 3. Sınavı:24\n",
            " Not Ortalaması:57.333333333333336\n"
          ]
        }
      ]
    },
    {
      "cell_type": "code",
      "source": [
        "notlar = {\n",
        "    \"Mehmet\" : [72, 66, 48],\n",
        "    \"Yaren\" : [80, 68, 100],\n",
        "    \"Feyza\" : [44,85,90],\n",
        "    \"Kemal\" : [77,80,45],\n",
        "    \"İmdat\" : [88, 60, 24]}\n",
        "isim = input(\"Lütfen notlarını görmek istediğiniz öğrencinin adını girin: \")\n",
        "ortalama = (notlar[isim][0]+notlar[isim][1]+notlar[isim][2])/3\n",
        "print(f\"{isim} isimli öğrencinin: 1. Sınav notu: {notlar[isim][0]} \\n 2. Sınav notu: {notlar[isim][1]} \\n 3. Sınav notu: {notlar[isim][2]} \\n Not ortalaması: {ortalama} \")\n"
      ],
      "metadata": {
        "id": "UNyAljnrsOPc",
        "colab": {
          "base_uri": "https://localhost:8080/"
        },
        "outputId": "1dee9b28-2fa3-44cf-a8f5-051aa9be2c93"
      },
      "execution_count": null,
      "outputs": [
        {
          "output_type": "stream",
          "name": "stdout",
          "text": [
            "Lütfen notlarını görmek istediğiniz öğrencinin adını girin: Feyza\n",
            "Feyza isimli öğrencinin: 1. Sınav notu: 44 \n",
            " 2. Sınav notu: 85 \n",
            " 3. Sınav notu: 90 \n",
            " Not ortalaması: 73.0 \n"
          ]
        }
      ]
    },
    {
      "cell_type": "code",
      "source": [
        "sınav_notları = { \"Mehmet\" : {\"1.Sınav Notu\" : 72 , \"2.Sınav Notu\" : 66, \"3.Sınav Notu\" : 48} , \"Yaren\" : {\"1.Sınav Notu\" : 80 , \"2.Sınav Notu\" : 68, \"3.Sınav Notu\" : 100} , \"Feyza\" : {\"1.Sınav Notu\" : 44 , \"2.Sınav Notu\" : 85, \"3.Sınav Notu\" : 90}}\n",
        "type(sınav_notları)"
      ],
      "metadata": {
        "colab": {
          "base_uri": "https://localhost:8080/"
        },
        "id": "DekOejNlSLNn",
        "outputId": "8520a2ca-616e-4a7d-f8e5-e56dc52253b6"
      },
      "execution_count": null,
      "outputs": [
        {
          "output_type": "execute_result",
          "data": {
            "text/plain": [
              "dict"
            ]
          },
          "metadata": {},
          "execution_count": 6
        }
      ]
    },
    {
      "cell_type": "code",
      "source": [
        "ilk_sınav = { \"Mehmet\" : [72,66,48] , \"Yaren\" : [80,68,100] , \"Feyza\" : [44,85,90]}\n",
        "type(ilk_sınav)"
      ],
      "metadata": {
        "colab": {
          "base_uri": "https://localhost:8080/"
        },
        "id": "46sGDuzjTDrQ",
        "outputId": "22423832-3f00-4366-bc63-1859e8e2975b"
      },
      "execution_count": null,
      "outputs": [
        {
          "output_type": "execute_result",
          "data": {
            "text/plain": [
              "dict"
            ]
          },
          "metadata": {},
          "execution_count": 17
        }
      ]
    },
    {
      "cell_type": "markdown",
      "source": [
        "#Problem 4\n"
      ],
      "metadata": {
        "id": "ZEMv0yn-YjgH"
      }
    },
    {
      "cell_type": "code",
      "source": [
        "# 1-  \"Bmw, Mercedes, Opel, Mazda\" elemanlarına sahip bir liste oluşturunuz.\n",
        "liste = [\"Bmw\" , \"Mercedes\" , \"Opel\" , \"Mazda\"]\n",
        "\n",
        "# 2-  Liste Kaç elemanlıdır ?\n",
        "print(len(liste)) \n",
        "\n",
        "# 3-  Listenin ilk ve son elemanı nedir ?\n",
        "print(\"İlk eleman:\" , liste[0] ,\"Son eleman:\", liste[-1])\n",
        "\n",
        "# 4-  Mazda değerini Toyota ile değiştirin.\n",
        "liste[-1] = \"Toyota\"\n",
        "print(liste)\n",
        "\n",
        "# 5-  Listenin -2 indeksindeki değer nedir ?\n",
        "liste[-2]\n",
        "\n",
        "# 6-  Listenin ilk 3 elemanını alın.\n",
        "liste[0:3]\n",
        "\n",
        "# 7-  Listenin son 2 elemanı yerine \"Toyota\" ve \"Renault\" değerlerini ekleyin.\n",
        "liste[-1:-2] = [\"Toyota\",\"Renault\"]\n",
        "\n",
        "# 8-  Listenin üzerine \"Audi\" ve \"Nissan\" değerlerini ekleyin.\n",
        "liste.append([\"Audi\",\"Nissan\"])\n",
        "print(liste)\n",
        "\n",
        "# 9- Listenin son elemanını silin.\n",
        "del(liste[-1])\n",
        "print(liste)\n",
        "\n",
        "# 10- Liste elemanlarını tersten yazdırınız.\n",
        "liste[-1:]\n",
        "print(liste)\n",
        "liste.reverse()\n",
        "\n",
        "# 11- Liste elemanlarını ekrana yazdırınız.\n",
        "\n",
        "names = ['Ali','Yağmur','Hakan','Deniz']\n",
        "years = [1998, 2000, 1998, 1987]\n",
        "\n",
        "print(names)\n",
        "print(years)\n",
        "\n",
        "# 12-  \"Cenk\" ismini listenin sonuna ekleyiniz.\n",
        "\n",
        "names.append(\"Cenk\")\n",
        "print(names)\n",
        "\n",
        "# 13-  \"Sena\" değerini listenin başına ekleyiniz.\n",
        "names.insert(0, 'Sena')\n",
        "\n",
        "# 14-  \"Deniz\" ismini listeden siliniz.\n",
        "del(names[-2])\n",
        "print(names)\n",
        "\n",
        "# 15-  \"Ali\" listenin bir elemanı mıdır ?\n",
        "existence = 'Ali' in names\n",
        "existence = names.index('Ali')\n",
        "\n",
        "# 16-  Liste elemanlarını ters çevirin.\n",
        "names[-1:]\n",
        "\n",
        "# 17-  Liste elemanlarını alfabetik olarak sıralayınız.\n",
        "names.sort()\n",
        "\n",
        "# 18-  years listesini rakamsal büyüklüğe göre sıralayınız.\n",
        "years.sort()\n",
        "\n",
        "# 19-  str = \"Chevrolet,Dacia\" karakter dizisini listeye çeviriniz.\n",
        "karakter_dizisi = \"Chevrolet, Dacia\"\n",
        "karakter_dizisi.split(',')\n",
        "\n",
        "# 20 - years dizisinde kaç tane 1998 değeri vardır ?\n",
        "years.count(1998)\n",
        "\n",
        "# 21- years dizisinin tüm elemanlarını siliniz.\n",
        "del(years[:]) \n",
        "print(years)\n",
        "years.clear()\n",
        "del years\n"
      ],
      "metadata": {
        "id": "IvU0RSw6Yj8O",
        "colab": {
          "base_uri": "https://localhost:8080/"
        },
        "outputId": "4dfceca6-350d-4eb8-8366-5e564ca8d715"
      },
      "execution_count": null,
      "outputs": [
        {
          "output_type": "stream",
          "name": "stdout",
          "text": [
            "4\n",
            "İlk eleman: Bmw Son eleman: Mazda\n",
            "['Bmw', 'Mercedes', 'Opel', 'Toyota']\n",
            "['Bmw', 'Mercedes', 'Opel', 'Toyota', 'Renault', 'Toyota', ['Audi', 'Nissan']]\n",
            "['Bmw', 'Mercedes', 'Opel', 'Toyota', 'Renault', 'Toyota']\n",
            "['Bmw', 'Mercedes', 'Opel', 'Toyota', 'Renault', 'Toyota']\n",
            "['Ali', 'Yağmur', 'Hakan', 'Deniz']\n",
            "[1998, 2000, 1998, 1987]\n",
            "['Ali', 'Yağmur', 'Hakan', 'Deniz', 'Cenk']\n",
            "['Sena', 'Ali', 'Yağmur', 'Hakan', 'Cenk']\n",
            "[]\n"
          ]
        }
      ]
    }
  ]
}
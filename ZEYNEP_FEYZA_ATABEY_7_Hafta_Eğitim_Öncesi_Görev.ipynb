{
  "metadata": {
    "kernelspec": {
      "language": "python",
      "display_name": "Python 3",
      "name": "python3"
    },
    "language_info": {
      "name": "python",
      "version": "3.7.6",
      "mimetype": "text/x-python",
      "codemirror_mode": {
        "name": "ipython",
        "version": 3
      },
      "pygments_lexer": "ipython3",
      "nbconvert_exporter": "python",
      "file_extension": ".py"
    },
    "colab": {
      "provenance": [],
      "collapsed_sections": []
    }
  },
  "nbformat_minor": 0,
  "nbformat": 4,
  "cells": [
    {
      "cell_type": "markdown",
      "source": [
        "# Problemlere Hazırlık"
      ],
      "metadata": {
        "id": "LuMoKx3yU276"
      }
    },
    {
      "cell_type": "markdown",
      "source": [
        "Değerli Jumperımız 7. Hafta Eğitim Öncesi Görevine Hoş Geldin!\n",
        "\n",
        "Görevini tamamlamaya başlamadan önce senden aşağıdaki iki kod bloğunu çalıştırmanı ve görevin sırasında kullanacağın dosyalarını indirmeni istiyoruz. Bu sayede yazdığın programları daha iyi test edebileceksin.\n",
        "\n",
        "**Unutma!** Bu Google Colab üzerinde **her çalışmaya başladığında** aşağıdaki iki kod satırını çalıştırmalısın.\n",
        "\n",
        "Senden aşağıdaki iki kod bloğunda herhangi bir **değişiklik yapmamanı** rica ediyoruz. Aksi halde ne yazık ki görevini değerlendiremeyeceğiz."
      ],
      "metadata": {
        "id": "NA9AcPdBU8N5"
      }
    },
    {
      "cell_type": "code",
      "source": [
        "file1 = open(\"demo.txt\",\"w\",encoding=\"utf-8\")\n",
        "file1.write(\"Hello! Welcome to demofile.txt\\nThis file is for testing purposes.\\nGood Luck!\")\n",
        "file1.close()"
      ],
      "metadata": {
        "id": "0DpyoeuzTL48"
      },
      "execution_count": null,
      "outputs": []
    },
    {
      "cell_type": "code",
      "source": [
        "file2 = open(\"test.txt\",\"w\",encoding=\"utf-8\")\n",
        "file2.write(\"Berkcan\\nEmirhan\\nÇağla\\nEnes\\nAdem\\nAhmet\\nBeyza\")\n",
        "file2.close()"
      ],
      "metadata": {
        "id": "d12ocOm2TnhF"
      },
      "execution_count": null,
      "outputs": []
    },
    {
      "cell_type": "markdown",
      "source": [
        "# Problem 1\n",
        "```test.txt``` dosyasındaki satır sayısını bularak ekrana yazdırınız.\n",
        "\n",
        "\n",
        "\n",
        "```\n",
        "> Output\n",
        "Number of lines in the file:  6\n",
        "\n",
        "```\n",
        "\n"
      ],
      "metadata": {
        "id": "jqzw00efW8cV"
      }
    },
    {
      "cell_type": "code",
      "source": [
        "# 1. Problem için çözümünüzü buraya yazınız.\n",
        "\n",
        "with open(r\"test.txt\", 'r') as fp:\n",
        "    satır_sayısı = len(fp.readlines())\n",
        "    print('Number of lines in the file:', satır_sayısı) "
      ],
      "metadata": {
        "id": "nQ2tV5HAXSOu",
        "colab": {
          "base_uri": "https://localhost:8080/"
        },
        "outputId": "5e02e1e2-0655-41f3-dc7a-43e6917962ae"
      },
      "execution_count": null,
      "outputs": [
        {
          "output_type": "stream",
          "name": "stdout",
          "text": [
            "Number of lines in the file: 7\n"
          ]
        }
      ]
    },
    {
      "cell_type": "code",
      "source": [
        "with open(r\"test.txt\", 'r') as fp:\n",
        "\tfor count, line in enumerate(fp):\n",
        "\t\tpass\n",
        "print('Number of lines in the file:', count + 1)\n"
      ],
      "metadata": {
        "colab": {
          "base_uri": "https://localhost:8080/"
        },
        "id": "gaC-z9bkhO4C",
        "outputId": "8911348b-2403-4f89-db0b-716a896fa6dd"
      },
      "execution_count": null,
      "outputs": [
        {
          "output_type": "stream",
          "name": "stdout",
          "text": [
            "Number of lines in the file: 7\n"
          ]
        }
      ]
    },
    {
      "cell_type": "code",
      "source": [
        "# Dosyayı açıyoruz\n",
        "dosya = open(\"test.txt\", \"r\")\n",
        "Sayac = 0\n",
        "\n",
        "# Dosyadan okuyoruz\n",
        "İcerik = dosya.read()\n",
        "Ek_liste = İcerik.split(\"\\n\")\n",
        "\n",
        "for i in Ek_liste:\n",
        "\tif i:\n",
        "\t\tSayac += 1\n",
        "\n",
        "print(\"Number of lines in the file\")\n",
        "print(Sayac)"
      ],
      "metadata": {
        "colab": {
          "base_uri": "https://localhost:8080/"
        },
        "id": "NHG0WgPHhm2P",
        "outputId": "b1b0acce-d349-47c3-ebe0-15192c2c8bf4"
      },
      "execution_count": null,
      "outputs": [
        {
          "output_type": "stream",
          "name": "stdout",
          "text": [
            "Number of lines in the file\n",
            "7\n"
          ]
        }
      ]
    },
    {
      "cell_type": "code",
      "source": [
        "with open(r\"test.txt\", 'r') as fp:\n",
        "\tlines = sum(1 for line in fp)\n",
        "\tprint('Number of lines in the file:', lines)"
      ],
      "metadata": {
        "colab": {
          "base_uri": "https://localhost:8080/"
        },
        "id": "RFKRBN5Lh5rE",
        "outputId": "7cd977fb-70d7-413a-b54a-44620ed6eee2"
      },
      "execution_count": null,
      "outputs": [
        {
          "output_type": "stream",
          "name": "stdout",
          "text": [
            "Number of lines in the file: 7\n"
          ]
        }
      ]
    },
    {
      "cell_type": "markdown",
      "source": [
        " # Problem 2\n",
        " \n",
        "```test.txt``` dosyasını satır satır okuyun ve bir listede saklayınız. Daha sonra listeyi ekrana bastırınız."
      ],
      "metadata": {
        "id": "AM6tnHhpXw9c"
      }
    },
    {
      "cell_type": "code",
      "source": [
        "# 2. Problem için çözümünüzü buraya yazınız.\n",
        "\n",
        "dosya = open(\"test.txt\", \"r\")\n",
        "dosya_icerik = dosya.read()\n",
        "print(\"Dosyanın İçeriği: \", dosya_icerik)\n",
        "\n",
        "icerik_listesi = dosya_icerik.split(\"\\n\")\n",
        "dosya.close()\n",
        "print(\"Oluşan liste: \", icerik_listesi)"
      ],
      "metadata": {
        "id": "mUxpDhFTYC9k",
        "colab": {
          "base_uri": "https://localhost:8080/"
        },
        "outputId": "6d20feb9-4a0f-42a0-e16b-907606997c08"
      },
      "execution_count": null,
      "outputs": [
        {
          "output_type": "stream",
          "name": "stdout",
          "text": [
            "Dosyanın İçeriği:  Berkcan\n",
            "Emirhan\n",
            "Çağla\n",
            "Enes\n",
            "Adem\n",
            "Ahmet\n",
            "Beyza\n",
            "Oluşan liste:  ['Berkcan', 'Emirhan', 'Çağla', 'Enes', 'Adem', 'Ahmet', 'Beyza']\n"
          ]
        }
      ]
    },
    {
      "cell_type": "markdown",
      "source": [
        "# Problem 3\n",
        "\n",
        "\n",
        "Çeşitli metin dosyalarından karakterleri ayıklamak ve bir listeye koymak için bir Python programı yazın. ```test.txt``` ve ```demo.txt``` dosyalarından faydalanabilirsiniz."
      ],
      "metadata": {
        "id": "GyW22PhtYLY2"
      }
    },
    {
      "cell_type": "code",
      "source": [
        "# 3. Problem için çözümünüzü buraya yazınız.\n",
        "\n",
        "# YetNot: Glob modülü, Python’da belirli bir klasör içindeki dosyaları listelememize yardımcı olan harika bir modüldür.  \n",
        "\n",
        "import glob\n",
        "\n",
        "liste = []\n",
        "dosyaların_listesi = glob.glob(\"demo.txt\")\n",
        "for dosya_elemanları in dosyaların_listesi:\n",
        "   with open(dosya_elemanları, \"r\") as f:\n",
        "       liste.append(f.read())\n",
        "print(liste)\n",
        "\n",
        "text = open(\"demo.txt\",\"r\")\n",
        "text_icerik = text.read()\n",
        "ayıklama = text_icerik.split(\"\\n\")\n",
        "text.close()\n",
        "print(\"Liste:\",text_icerik)"
      ],
      "metadata": {
        "id": "aQ9I3U73YULj",
        "colab": {
          "base_uri": "https://localhost:8080/"
        },
        "outputId": "292c440c-04d7-46a6-8d1e-fd322a5ca1ba"
      },
      "execution_count": null,
      "outputs": [
        {
          "output_type": "stream",
          "name": "stdout",
          "text": [
            "['Hello! Welcome to demofile.txt\\nThis file is for testing purposes.\\nGood Luck!']\n",
            "Liste: Hello! Welcome to demofile.txt\n",
            "This file is for testing purposes.\n",
            "Good Luck!\n"
          ]
        }
      ]
    }
  ]
}
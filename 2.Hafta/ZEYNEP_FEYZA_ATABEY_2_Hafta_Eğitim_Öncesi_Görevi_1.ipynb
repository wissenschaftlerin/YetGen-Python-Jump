{
  "metadata": {
    "kernelspec": {
      "display_name": "Python 3",
      "language": "python",
      "name": "python3"
    },
    "language_info": {
      "codemirror_mode": {
        "name": "ipython",
        "version": 3
      },
      "file_extension": ".py",
      "mimetype": "text/x-python",
      "name": "python",
      "nbconvert_exporter": "python",
      "pygments_lexer": "ipython3",
      "version": "3.6.5"
    },
    "colab": {
      "provenance": [],
      "collapsed_sections": []
    }
  },
  "nbformat_minor": 0,
  "nbformat": 4,
  "cells": [
    {
      "cell_type": "markdown",
      "source": [
        "# Question 1\n",
        "\n",
        "Next, you will run some code from the tutorial, so you can see how it works for yourself.  Run the next code cell without changes."
      ],
      "metadata": {
        "id": "ms3nHsole8CN"
      }
    },
    {
      "cell_type": "code",
      "source": [
        "print(\"Hello, world!\")"
      ],
      "metadata": {
        "id": "hU8Nuz2cKKQH",
        "colab": {
          "base_uri": "https://localhost:8080/"
        },
        "outputId": "eefc59e7-84c4-47ac-d696-9d2dc37eb305"
      },
      "execution_count": null,
      "outputs": [
        {
          "output_type": "stream",
          "name": "stdout",
          "text": [
            "Hello, world!\n"
          ]
        }
      ]
    },
    {
      "cell_type": "markdown",
      "source": [
        "# Question 2\n",
        "\n",
        "Now, you will print another message of your choosing.  To do this, change `print(\"Your message here!\")` to use a different message.  For instance, you might like to change it to something like:\n",
        "- `print(\"Good morning!\")`\n",
        "- `print(\"I am learning how to code :D\")`\n",
        "\n",
        "Or, you might like to see what happens if you write something like `print(\"3+4\")`.  Does it return 7, or does it just think of `\"3+4\"` as just another message?\n",
        "\n",
        "Make sure that your message is enclosed in quotation marks (`\"`), and the message itself does not use quotation marks. For instance, this will throw an error: `print(\"She said \"great job\" and gave me a high-five!\")` because the message contains quotation marks.\n",
        "\n",
        "Feel free to try out multiple messages!"
      ],
      "metadata": {
        "id": "XNXWyrmPe8CO"
      }
    },
    {
      "cell_type": "code",
      "source": [
        "# TODO: Change the message\n",
        "print(\"Thank You For YETGEN PYTHON TRAINING!\")\n"
      ],
      "metadata": {
        "execution": {
          "iopub.execute_input": "2022-03-07T16:28:06.256864Z",
          "iopub.status.busy": "2022-03-07T16:28:06.256639Z",
          "iopub.status.idle": "2022-03-07T16:28:06.269714Z",
          "shell.execute_reply": "2022-03-07T16:28:06.268692Z",
          "shell.execute_reply.started": "2022-03-07T16:28:06.256837Z"
        },
        "id": "0fnSLlCye8CO",
        "colab": {
          "base_uri": "https://localhost:8080/"
        },
        "outputId": "7f507f51-e05a-4019-e8ac-918dea4b4408"
      },
      "execution_count": null,
      "outputs": [
        {
          "output_type": "stream",
          "name": "stdout",
          "text": [
            "Thank You For YETGEN PYTHON TRAINING!\n"
          ]
        }
      ]
    },
    {
      "cell_type": "markdown",
      "source": [
        "# Question 3\n",
        "\n",
        "As you learned in the tutorial, a comment in Python has a pound sign (`#`) in front of it, which tells Python to ignore the text after it.\n",
        "\n",
        "Putting a pound sign in front of a line of code will make Python ignore that code.  For instance, this line would be ignored by Python, and nothing would appear in the output:\n",
        "```python\n",
        "#print(1+2)\n",
        "# This is \n",
        "\n",
        "print(1+2)\n",
        "\n",
        "```\n",
        "Removing the pound sign will make it so that you can run the code again. When we remove the pound sign in front of a line of code, we call this **uncommenting**."
      ],
      "metadata": {
        "id": "VLm6lRSqe8CO"
      }
    },
    {
      "cell_type": "code",
      "source": [
        "print(1+2)"
      ],
      "metadata": {
        "id": "FznsZSDEAHK4",
        "outputId": "8829af63-f506-4639-db6b-f85f19d9048d",
        "colab": {
          "base_uri": "https://localhost:8080/"
        }
      },
      "execution_count": null,
      "outputs": [
        {
          "output_type": "stream",
          "name": "stdout",
          "text": [
            "3\n"
          ]
        }
      ]
    },
    {
      "cell_type": "markdown",
      "source": [
        "# Question 4\n",
        "\n",
        "In the tutorial, you defined several variables to calculate the total number of seconds in a year.  Run the next code cell to do the calculation here."
      ],
      "metadata": {
        "id": "mHXxFz_6e8CP"
      }
    },
    {
      "cell_type": "code",
      "source": [
        "# Create variables\n",
        "num_years = 4\n",
        "days_per_year = 365 \n",
        "hours_per_day = 24\n",
        "mins_per_hour = 60\n",
        "secs_per_min = 60\n",
        "\n",
        "# Calculate number of seconds in four years\n",
        "total_secs = secs_per_min * mins_per_hour * hours_per_day * days_per_year * num_years\n",
        "print(total_secs)"
      ],
      "metadata": {
        "execution": {
          "iopub.execute_input": "2022-03-07T16:37:38.513786Z",
          "iopub.status.busy": "2022-03-07T16:37:38.512582Z",
          "iopub.status.idle": "2022-03-07T16:37:38.521019Z",
          "shell.execute_reply": "2022-03-07T16:37:38.519417Z",
          "shell.execute_reply.started": "2022-03-07T16:37:38.513735Z"
        },
        "id": "12MtYtKGe8CP",
        "colab": {
          "base_uri": "https://localhost:8080/"
        },
        "outputId": "185d6dfc-9a89-44b8-f6e9-d42afb5a72be"
      },
      "execution_count": null,
      "outputs": [
        {
          "output_type": "stream",
          "name": "stdout",
          "text": [
            "126144000\n"
          ]
        }
      ]
    },
    {
      "cell_type": "markdown",
      "source": [
        "Use the next code cell to:\n",
        "- Define a variable `births_per_min` and set it to 250.  (There are on average 250 babies born each minute.)\n",
        "- Define a variable `births_per_day` that contains the average number of babies born each day.  (To set the value of this variable, you should use `births_per_min` and some of the variables from the previous code cell.)"
      ],
      "metadata": {
        "id": "6ROHPZ7Ve8CP"
      }
    },
    {
      "cell_type": "code",
      "source": [
        "# TODO: Set the value of the births_per_min variable\n",
        "births_per_min = 250\n",
        "\n",
        "# TODO: Set the value of the births_per_day variable\n",
        "births_per_day = (hours_per_day * mins_per_hour) * births_per_min\n"
      ],
      "metadata": {
        "id": "6U3E-GbQe8CQ"
      },
      "execution_count": null,
      "outputs": []
    }
  ]
}
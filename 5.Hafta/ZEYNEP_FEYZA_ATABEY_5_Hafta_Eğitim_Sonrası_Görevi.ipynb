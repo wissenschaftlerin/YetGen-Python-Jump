{
  "nbformat": 4,
  "nbformat_minor": 0,
  "metadata": {
    "colab": {
      "provenance": [],
      "collapsed_sections": []
    },
    "kernelspec": {
      "name": "python3",
      "display_name": "Python 3"
    },
    "language_info": {
      "name": "python"
    }
  },
  "cells": [
    {
      "cell_type": "markdown",
      "source": [
        "# Problem 1\n",
        "\n",
        "0'dan 10'a kadar olan sayıların toplamını hesaplayan özyinelemeli bir fonksiyon oluşturan bir fonksiyon yazınız.\n",
        "\n",
        "Özyinelemeli bir işlev, kendini tekrar tekrar çağıran bir işlevdir."
      ],
      "metadata": {
        "id": "9SIIri9AXbPN"
      }
    },
    {
      "cell_type": "code",
      "execution_count": null,
      "metadata": {
        "id": "z7Mxxk2mQj3P",
        "colab": {
          "base_uri": "https://localhost:8080/"
        },
        "outputId": "883a8ffc-c964-4c5b-993e-b65091d77f86"
      },
      "outputs": [
        {
          "output_type": "stream",
          "name": "stdout",
          "text": [
            "55\n"
          ]
        }
      ],
      "source": [
        "# 1. problemimiz için kodlarını buraya yazabilirsin.\n",
        "\n",
        "def toplama(sayı):\n",
        "  if sayı < 0:\n",
        "    return 0\n",
        "  else:\n",
        "    return sayı + toplama(sayı-1)\n",
        "\n",
        "sonuc = toplama(10)\n",
        "print(sonuc)"
      ]
    },
    {
      "cell_type": "code",
      "execution_count": null,
      "metadata": {
        "colab": {
          "base_uri": "https://localhost:8080/"
        },
        "outputId": "68ea24d0-a8ed-4d1f-e485-77bbad47c45a",
        "id": "NFPgDaaDcFFu"
      },
      "outputs": [
        {
          "output_type": "execute_result",
          "data": {
            "text/plain": [
              "55"
            ]
          },
          "metadata": {},
          "execution_count": 4
        }
      ],
      "source": [
        "liste = range(0,11)\n",
        "def toplam(x):\n",
        "  toplam = 0\n",
        "  for sayı in liste:\n",
        "    toplam += sayı\n",
        "  return toplam\n",
        "\n",
        "toplam(liste)"
      ]
    },
    {
      "cell_type": "markdown",
      "source": [
        "# Problem 2\n",
        "Verilen bir listeden çift sayıları yazdıran bir fonksiyon yazınız.\n",
        "\n"
      ],
      "metadata": {
        "id": "OsED1gz0YYxa"
      }
    },
    {
      "cell_type": "code",
      "source": [
        "# 2. problemimizin kodlarını buraya yazabilirsin.\n",
        "new_list = []\n",
        "\n",
        "def double(liste):\n",
        "  for x in liste:\n",
        "    if x%2 == 0:\n",
        "      new_list.append(x)\n",
        "  return new_list\n",
        "\n",
        "list = [ 1 , 2 , 3 , 4 , 5]\n",
        "double(list)"
      ],
      "metadata": {
        "id": "J_X_k4eNYZGQ",
        "colab": {
          "base_uri": "https://localhost:8080/"
        },
        "outputId": "c0bbd9e0-c98a-4d18-d80b-348fe48a4ca4"
      },
      "execution_count": null,
      "outputs": [
        {
          "output_type": "execute_result",
          "data": {
            "text/plain": [
              "[2, 4]"
            ]
          },
          "metadata": {},
          "execution_count": 35
        }
      ]
    },
    {
      "cell_type": "code",
      "source": [
        "# Build-It Fonksiyonla 2.Yöntem\n",
        "def double(sayı_listesi):\n",
        "  return list(filter(lambda x : x % 2 == 0 , sayı_listesi))"
      ],
      "metadata": {
        "id": "757b5reKcEyp"
      },
      "execution_count": null,
      "outputs": []
    },
    {
      "cell_type": "markdown",
      "source": [
        "# Problem 3\n",
        "\n",
        "Listedeki tüm sayıları çarpmak için bir fonksiyon yazınız.\t "
      ],
      "metadata": {
        "id": "D2D9PfeaY-Qp"
      }
    },
    {
      "cell_type": "code",
      "source": [
        "# 3. problemimiz için kodlarını buraya yazabilirsin.\n",
        "def multiplikation(listem):\n",
        "  n = 1\n",
        "  for a in listem:\n",
        "      n = n * a\n",
        "  return n\n",
        "\n",
        "listem = [ 1 , 2 , 3]\n",
        "multiplikation(listem)\n"
      ],
      "metadata": {
        "id": "m_K01-L6YuYd",
        "colab": {
          "base_uri": "https://localhost:8080/"
        },
        "outputId": "34930d13-e55a-476a-e45e-35ff0e1103ec"
      },
      "execution_count": null,
      "outputs": [
        {
          "output_type": "execute_result",
          "data": {
            "text/plain": [
              "6"
            ]
          },
          "metadata": {},
          "execution_count": 6
        }
      ]
    },
    {
      "cell_type": "markdown",
      "source": [
        "#Problem 4\n",
        "\n",
        "Bir liste alan ve ilk listenin benzersiz öğeleriyle yeni bir liste döndüren bir fonksiyon yazınız."
      ],
      "metadata": {
        "id": "ZEMv0yn-YjgH"
      }
    },
    {
      "cell_type": "code",
      "source": [
        "# 4. problemimiz için kodlarını buraya yazabilirsin.\n",
        "\n",
        "def benzersiz_liste(list):\n",
        "  liste = []\n",
        "  for x in list:\n",
        "    if x not in liste:\n",
        "      liste.append(x)\n",
        "\n",
        "  return liste\n",
        "\n",
        "print(benzersiz_liste([4,4,4,2,0,5,22,44,9]))"
      ],
      "metadata": {
        "id": "2Y2L8zfXY5hE",
        "colab": {
          "base_uri": "https://localhost:8080/"
        },
        "outputId": "23bb296a-7fc9-486c-92f9-438fb7d116aa"
      },
      "execution_count": null,
      "outputs": [
        {
          "output_type": "stream",
          "name": "stdout",
          "text": [
            "[4, 2, 0, 5, 22, 44, 9]\n"
          ]
        }
      ]
    },
    {
      "cell_type": "markdown",
      "source": [
        "#Problem 5\n",
        "\n",
        "Bir kelimedeki ünlü ve ünsüz harfleri sayan bir fonksiyon yazınız."
      ],
      "metadata": {
        "id": "nhqmExcDhZrP"
      }
    },
    {
      "cell_type": "code",
      "source": [
        "# 5. problemimiz için kodlarını buraya yazabilirsin.\n",
        "def say_unlu_unsuz(kelime):\n",
        "  unlu = 0\n",
        "  unsuz = 0\n",
        "  for i in range(len(kelime)):\n",
        "    if kelime[i] in [\"a\",\"e\",\"i\",\"ı\",\"o\",\"ö\",\"u\",\"ü\"]:\n",
        "      unlu = unlu + 1\n",
        "    else:\n",
        "      unsuz = unsuz + 1\n",
        "\n",
        "  print(\"Bu kelimedeki ünlü harf sayısı:\", unlu)\n",
        "  print(\"Bu kelimedeki ünsüz harf sayısı:\" ,unsuz)\n",
        "    \n",
        "kelime = input(\"Lütfen ünlü ve ünsüz harf sayısını öğrenmek istediğiniz kelimeyi giriniz: \")\n",
        "\n",
        "say_unlu_unsuz(kelime)"
      ],
      "metadata": {
        "id": "6D5HfqoKhZrQ",
        "colab": {
          "base_uri": "https://localhost:8080/"
        },
        "outputId": "cb75d68d-554c-4253-b75d-8fe1f06e9c79"
      },
      "execution_count": null,
      "outputs": [
        {
          "output_type": "stream",
          "name": "stdout",
          "text": [
            "Lütfen ünlü ve ünsüz harf sayısını öğrenmek istediğiniz kelimeyi giriniz: Feyza\n",
            "Bu kelimedeki ünlü harf sayısı: 2\n",
            "Bu kelimedeki ünsüz harf sayısı: 3\n"
          ]
        }
      ]
    }
  ]
}
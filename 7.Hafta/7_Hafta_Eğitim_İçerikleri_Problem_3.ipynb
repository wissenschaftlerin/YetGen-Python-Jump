{
  "metadata": {
    "kernelspec": {
      "language": "python",
      "display_name": "Python 3",
      "name": "python3"
    },
    "language_info": {
      "name": "python",
      "version": "3.7.6",
      "mimetype": "text/x-python",
      "codemirror_mode": {
        "name": "ipython",
        "version": 3
      },
      "pygments_lexer": "ipython3",
      "nbconvert_exporter": "python",
      "file_extension": ".py"
    },
    "colab": {
      "provenance": [],
      "collapsed_sections": []
    }
  },
  "nbformat_minor": 0,
  "nbformat": 4,
  "cells": [
    {
      "cell_type": "markdown",
      "source": [
        "# Problemlere Hazırlık"
      ],
      "metadata": {
        "id": "LuMoKx3yU276"
      }
    },
    {
      "cell_type": "markdown",
      "source": [
        "Görevini tamamlamaya başlamadan önce senden aşağıdaki iki kod bloğunu çalıştırmanı ve görevin sırasında kullanacağın dosyalarını indirmeni istiyoruz. Bu sayede yazdığın programları daha iyi test edebileceksin."
      ],
      "metadata": {
        "id": "NA9AcPdBU8N5"
      }
    },
    {
      "cell_type": "code",
      "source": [
        "file1 = open(\"demo.txt\",\"w\",encoding=\"utf-8\")\n",
        "file1.write(\"Hello! Welcome to demofile.txt\\nThis file is for testing purposes.\\nGood Luck!\")\n",
        "file1.close()"
      ],
      "metadata": {
        "id": "0DpyoeuzTL48"
      },
      "execution_count": null,
      "outputs": []
    },
    {
      "cell_type": "code",
      "source": [
        "file2 = open(\"test.txt\",\"w\",encoding=\"utf-8\")\n",
        "file2.write(\"Berkcan\\nEmirhan\\nÇağla\\nEnes\\nAdem\\nAhmet\\nBeyza\")\n",
        "file2.close()"
      ],
      "metadata": {
        "id": "d12ocOm2TnhF"
      },
      "execution_count": null,
      "outputs": []
    },
    {
      "cell_type": "code",
      "source": [
        "file3 = open(\"urunler.txt\",\"w\",encoding=\"utf-8\")\n",
        "file3.write(\"s10  6000\")\n",
        "file3.close()"
      ],
      "metadata": {
        "id": "cuLVi7ma6QoI"
      },
      "execution_count": null,
      "outputs": []
    },
    {
      "cell_type": "markdown",
      "source": [
        "# Problem 3\n",
        "```dosya_ismi```, ```eski_kelime``` ve ```yeni_kelime``` parametrelerini alarak dosyada eski kelimiyi yenisiyle değiştirerek güncelleme yapan bir foknksiyon yazınız.\n",
        "\n"
      ],
      "metadata": {
        "id": "KpHxKLGCGfM7"
      }
    },
    {
      "cell_type": "code",
      "source": [
        "# degisken.replace(\"değişecek karakterler\",\"yerine gelecek karakterler\")\n",
        "import sys\n",
        "import fileinput\n",
        "\n",
        "dosya_ismi = input(\"Dosya ismini giriniz: \")\n",
        "eski_kelime = input(\"Değiştirmek istediğiniz kelimeyi giriniz:\")\n",
        "yeni_kelime = input(\"Yeni kelimeyi giriniz: \")\n",
        " \n",
        "for l in fileinput.input(dosya_ismi):\n",
        "    l = l.replace(eski_kelime, yeni_kelime)\n",
        "    sys.stdout.write(l)"
      ],
      "metadata": {
        "id": "qlP479bQase0",
        "colab": {
          "base_uri": "https://localhost:8080/"
        },
        "outputId": "b314a366-5151-46b9-ffd8-62a39ddbbff2"
      },
      "execution_count": null,
      "outputs": [
        {
          "output_type": "stream",
          "name": "stdout",
          "text": [
            "Dosya ismini giriniz: urunler.txt\n",
            "Değiştirmek istediğiniz kelimeyi giriniz:s10\n",
            "Yeni kelimeyi giriniz: t60\n",
            "t60  6000"
          ]
        }
      ]
    },
    {
      "cell_type": "code",
      "source": [
        "import os\n",
        "eski_kelime = input(\"Enter text that will replace the existing text:\")\n",
        "dosya_ismi = input(\"Dosyanın ismini giriniz: \")\n",
        "yeni_kelime = input(\"Yeni kelimeyi giriniz:\" )\n",
        " \n",
        "dosya_ismi.write(yeni_kelime)\n",
        "os.remove(eski_kelime)\n",
        "os.rename(eski_kelime, yeni_kelime)\n",
        "dosya_ismi.close(dosya_ismi)\n",
        " \n",
        "print(\"Dosya yenilendi.\")"
      ],
      "metadata": {
        "id": "8NYc_9z1C6tx"
      },
      "execution_count": null,
      "outputs": []
    }
  ]
}